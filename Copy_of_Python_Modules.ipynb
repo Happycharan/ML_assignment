{
  "nbformat": 4,
  "nbformat_minor": 0,
  "metadata": {
    "colab": {
      "provenance": []
    },
    "kernelspec": {
      "name": "python3",
      "display_name": "Python 3"
    },
    "language_info": {
      "name": "python"
    }
  },
  "cells": [
    {
      "cell_type": "markdown",
      "source": [
        "# Numpy Implementation"
      ],
      "metadata": {
        "id": "nKMH5Y1T06vH"
      }
    },
    {
      "cell_type": "code",
      "execution_count": null,
      "metadata": {
        "colab": {
          "base_uri": "https://localhost:8080/",
          "height": 106
        },
        "id": "MM8X0T-p06HB",
        "outputId": "33c6927a-14d5-47be-b5a1-75fe21cfe461"
      },
      "outputs": [
        {
          "output_type": "error",
          "ename": "SyntaxError",
          "evalue": "invalid syntax (<ipython-input-2-29597761fd1a>, line 3)",
          "traceback": [
            "\u001b[0;36m  File \u001b[0;32m\"<ipython-input-2-29597761fd1a>\"\u001b[0;36m, line \u001b[0;32m3\u001b[0m\n\u001b[0;31m    arr1=#Your code here\u001b[0m\n\u001b[0m         ^\u001b[0m\n\u001b[0;31mSyntaxError\u001b[0m\u001b[0;31m:\u001b[0m invalid syntax\n"
          ]
        }
      ],
      "source": [
        "import numpy as np\n",
        "# Create a 2D Numpy array of size 1x3 with elements of your choice\n",
        "arr1=np.array([[1,2,3]])\n",
        "# Create a Numpy array of length 50 with zeroes as its elements\n",
        "arr2=np.zeros(50)\n",
        "\n",
        "#Create a Numpy array of length 3x2 with elements of your choice\n",
        "arr3=np.array([[3,4],[5,6],[7,8]])\n",
        "\n",
        "arr4=np.matmul(arr1,arr3)\n",
        "#Change 5th element of arr2 to a different number\n",
        "arr2[4]=10\n",
        "\n",
        "if np.shape(arr4)==(1,2) and arr2[4]!=0:\n",
        "  print(\"Passed\")\n",
        "else:\n",
        "  print(\"Fail\")"
      ]
    },
    {
      "cell_type": "code",
      "source": [
        "import numpy as np\n",
        "\n",
        "#Task: Perform the dot product of I and 9I+1 using numpy, here I is referred to as an 3x3 Identity matrix.\n",
        "I=np.identity(3)\n",
        "dotproduct=np.dot(I,9*I+1)\n",
        "print(dotproduct)"
      ],
      "metadata": {
        "id": "KNTXZFd13rgE"
      },
      "execution_count": null,
      "outputs": []
    },
    {
      "cell_type": "markdown",
      "source": [
        "# Pandas Implementation"
      ],
      "metadata": {
        "id": "rRrOxN-6FXAb"
      }
    },
    {
      "cell_type": "code",
      "source": [
        "import pandas as pd\n",
        "\n",
        "## Create a DataFrame from a dictionary\n",
        "data = {\n",
        "    'Name': ['Ramesh', 'Mahesh', 'Suresh'],\n",
        "    'Age': [25, 30, 35],\n",
        "    'City': ['Bangalore', 'Mumbai', 'Delhi']\n",
        "}\n",
        "#Your code here\n",
        "df=pd.DataFrame(data)\n",
        "#Display the first 2 rows of the data frame\n",
        "#Your code here\n",
        "print(df.head(2))\n",
        "#Print the age column\n",
        "#Your code here\n",
        "print(df['Age'])\n",
        "#Filter rows where age is greater than 26\n",
        "#Your code here\n",
        "Rows=df[df['Age']>26]\n",
        "#Add a new column 'Country' with the value 'India' for all rows\n",
        "#Your code here\n",
        "df['Country']='India'\n",
        "data1 = {\n",
        "    'Name': ['Ramesh', 'Mahesh', 'Suresh'],\n",
        "    'Age': [25, None, 35],\n",
        "    'City': ['Bangalore', 'Mumbai', 'Delhi']\n",
        "}\n",
        "\n",
        "df2= pd.DataFrame(data1)\n",
        "\n",
        "# Fill missing values in the 'Age' column with the mean age\n",
        "#Your code here\n",
        "mean_age = df2['Age'].mean()\n",
        "df2['Age'].fillna(mean_age, inplace=True)\n"
      ],
      "metadata": {
        "id": "EaoIVtKIFenB"
      },
      "execution_count": null,
      "outputs": []
    },
    {
      "cell_type": "markdown",
      "source": [
        "# Matplotlib Implementation"
      ],
      "metadata": {
        "id": "uay3H4C8cboE"
      }
    },
    {
      "cell_type": "code",
      "source": [
        "import matplotlib.pyplot as plt\n",
        "import numpy as np\n",
        "\n",
        "\n",
        "\n",
        "xpoints=np.array([1,2,3,4])\n",
        "ypoints=np.array([2,4,6,8])\n",
        "\n",
        "#Plot these points without drawing a line\n",
        "plt.figure(figsize=(5,5))\n",
        "plt.scatter(xpoints,ypoints)\n",
        "\n",
        "#Plotting with marker: Plot these points with a marker(Star marker)\n",
        "plt.figure(figsize=(5,5))\n",
        "plt.scatter(xpoints,ypoints,marker='*')\n",
        "\n",
        "#Using fmt format, add circular marker,red color and Dashed line\n",
        "plt.figure(figsize=(5,5))\n",
        "plt.plot(xpoints,ypoints,'ro--', markersize=8,color='red')\n",
        "\n",
        "#Add xlabel,ylabel and title for the plot.\n",
        "plt.xlabel(\"xpoints\")\n",
        "plt.ylabel(\"ypoints\")\n",
        "plt.title(\"plot of x Vs y\")\n",
        "\n",
        "#Create a scatter plot for xpoints and ypoints\n",
        "plt.figure(figsize=(5,5))\n",
        "colors=['Blue','Green','Red','Yellow']\n",
        "for i in range(4):\n",
        "    plt.scatter(xpoints[i],ypoints[i],color=colors[i])\n",
        "#Set color to the scatter plot. Blue,Green,Red and yellow color for each point respectively\n"
      ],
      "metadata": {
        "colab": {
          "base_uri": "https://localhost:8080/",
          "height": 106
        },
        "id": "i4lccqVxcgE_",
        "outputId": "5f093bf0-5059-4031-d49f-511341e86114"
      },
      "execution_count": null,
      "outputs": [
        {
          "output_type": "error",
          "ename": "SyntaxError",
          "evalue": "invalid syntax (<ipython-input-5-8ace55936b42>, line 2)",
          "traceback": [
            "\u001b[0;36m  File \u001b[0;32m\"<ipython-input-5-8ace55936b42>\"\u001b[0;36m, line \u001b[0;32m2\u001b[0m\n\u001b[0;31m    import #numpy module. Fill your code\u001b[0m\n\u001b[0m           ^\u001b[0m\n\u001b[0;31mSyntaxError\u001b[0m\u001b[0;31m:\u001b[0m invalid syntax\n"
          ]
        }
      ]
    },
    {
      "cell_type": "markdown",
      "source": [
        "# Miscellaneous Modules Implementation"
      ],
      "metadata": {
        "id": "pfe2Fv2tgKq5"
      }
    },
    {
      "cell_type": "code",
      "source": [
        "import random\n",
        "import numpy as np\n",
        "\n",
        "#Set the seed of random to 20\n",
        "random.seed(20)\n",
        "#Your code here\n",
        "\n",
        "arr1=np.array([1,24,31,45,73,81,94,25])\n",
        "\n",
        "#Using the random module pick 4 different random numbers from arr1 and return their sum.\n",
        "#Your code here\n",
        "random_numbers = np.random.choice(arr1, size=4, replace=False)\n",
        "sum=random_numbers.sum()\n",
        "print(random_numbers,\" their sum is: \",sum)"
      ],
      "metadata": {
        "id": "a_bTz2PlgRah",
        "outputId": "f871cd41-763c-4452-d723-2525f27554c4",
        "colab": {
          "base_uri": "https://localhost:8080/"
        }
      },
      "execution_count": null,
      "outputs": [
        {
          "output_type": "stream",
          "name": "stdout",
          "text": [
            "[24 73 81 25]  their sum is:  203\n"
          ]
        }
      ]
    }
  ]
}